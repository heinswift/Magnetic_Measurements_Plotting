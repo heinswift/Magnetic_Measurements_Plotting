{
 "cells": [
  {
   "cell_type": "code",
   "execution_count": 23,
   "metadata": {},
   "outputs": [],
   "source": [
    "import pandas as pd\n",
    "import numpy as np\n",
    "import seaborn as sns\n"
   ]
  },
  {
   "cell_type": "code",
   "execution_count": 25,
   "metadata": {},
   "outputs": [
    {
     "data": {
      "text/html": [
       "<div>\n",
       "<style scoped>\n",
       "    .dataframe tbody tr th:only-of-type {\n",
       "        vertical-align: middle;\n",
       "    }\n",
       "\n",
       "    .dataframe tbody tr th {\n",
       "        vertical-align: top;\n",
       "    }\n",
       "\n",
       "    .dataframe thead th {\n",
       "        text-align: right;\n",
       "    }\n",
       "</style>\n",
       "<table border=\"1\" class=\"dataframe\">\n",
       "  <thead>\n",
       "    <tr style=\"text-align: right;\">\n",
       "      <th></th>\n",
       "      <th>Messung Nr.</th>\n",
       "      <th>Messort</th>\n",
       "      <th>Flussdichte [µT] (3D-Wert)</th>\n",
       "      <th>Flussdichte [µT] (X-Wert)</th>\n",
       "      <th>Flussdichte [µT] (Y-Wert)</th>\n",
       "      <th>Flussdichte [µT] (Z-Wert)</th>\n",
       "      <th>Kompassnadelabweichung [°]</th>\n",
       "    </tr>\n",
       "  </thead>\n",
       "  <tbody>\n",
       "    <tr>\n",
       "      <th>0</th>\n",
       "      <td>0</td>\n",
       "      <td>neutrales Erdmagnet-feld</td>\n",
       "      <td>49.9</td>\n",
       "      <td>-21.7</td>\n",
       "      <td>3.6</td>\n",
       "      <td>-45.4</td>\n",
       "      <td>0</td>\n",
       "    </tr>\n",
       "    <tr>\n",
       "      <th>1</th>\n",
       "      <td>1</td>\n",
       "      <td>A1</td>\n",
       "      <td>45.5</td>\n",
       "      <td>-21.9</td>\n",
       "      <td>0.0</td>\n",
       "      <td>-39.8</td>\n",
       "      <td>0</td>\n",
       "    </tr>\n",
       "    <tr>\n",
       "      <th>2</th>\n",
       "      <td>2</td>\n",
       "      <td>A2</td>\n",
       "      <td>46.3</td>\n",
       "      <td>-13.9</td>\n",
       "      <td>0.4</td>\n",
       "      <td>-44.4</td>\n",
       "      <td>0</td>\n",
       "    </tr>\n",
       "    <tr>\n",
       "      <th>3</th>\n",
       "      <td>3</td>\n",
       "      <td>A3</td>\n",
       "      <td>45.9</td>\n",
       "      <td>-14.4</td>\n",
       "      <td>0.0</td>\n",
       "      <td>-43.7</td>\n",
       "      <td>0</td>\n",
       "    </tr>\n",
       "    <tr>\n",
       "      <th>4</th>\n",
       "      <td>4</td>\n",
       "      <td>A4</td>\n",
       "      <td>46.1</td>\n",
       "      <td>-18.3</td>\n",
       "      <td>3.5</td>\n",
       "      <td>-42.2</td>\n",
       "      <td>5</td>\n",
       "    </tr>\n",
       "  </tbody>\n",
       "</table>\n",
       "</div>"
      ],
      "text/plain": [
       "   Messung Nr.                   Messort  Flussdichte [µT] (3D-Wert)  \\\n",
       "0            0  neutrales Erdmagnet-feld                        49.9   \n",
       "1            1                        A1                        45.5   \n",
       "2            2                        A2                        46.3   \n",
       "3            3                        A3                        45.9   \n",
       "4            4                        A4                        46.1   \n",
       "\n",
       "   Flussdichte [µT] (X-Wert)  Flussdichte [µT] (Y-Wert)  \\\n",
       "0                      -21.7                        3.6   \n",
       "1                      -21.9                        0.0   \n",
       "2                      -13.9                        0.4   \n",
       "3                      -14.4                        0.0   \n",
       "4                      -18.3                        3.5   \n",
       "\n",
       "   Flussdichte [µT] (Z-Wert)  Kompassnadelabweichung [°]  \n",
       "0                      -45.4                           0  \n",
       "1                      -39.8                           0  \n",
       "2                      -44.4                           0  \n",
       "3                      -43.7                           0  \n",
       "4                      -42.2                           5  "
      ]
     },
     "execution_count": 25,
     "metadata": {},
     "output_type": "execute_result"
    }
   ],
   "source": [
    "# Read measurement schema\n",
    "measurement_schema = pd.read_excel(\n",
    "    '/workspaces/Magnetic_Measurements_Plotting/Messpunktschema Vorlage.xlsx',\n",
    "    sheet_name='Messpunktschema',\n",
    "    header=None\n",
    ")\n",
    "measurement_schema = np.array(measurement_schema)\n",
    "\n",
    "# Read parameters\n",
    "parameters = pd.read_excel(\n",
    "    '/workspaces/Magnetic_Measurements_Plotting/Messpunktschema Vorlage.xlsx',\n",
    "    sheet_name='Parameter'\n",
    ")\n",
    "\n",
    "x_distance = parameters.loc[0]['Wert']\n",
    "y_distance = parameters.loc[1]['Wert']\n",
    "\n",
    "measurements_df = pd.read_excel(\n",
    "    '/workspaces/Magnetic_Measurements_Plotting/Messpunktschema Vorlage.xlsx',\n",
    "    sheet_name='Messwerte'\n",
    ")\n",
    "\n",
    "measurements_df.head()"
   ]
  },
  {
   "cell_type": "markdown",
   "metadata": {},
   "source": [
    "Reconstructing X, Y and Z"
   ]
  },
  {
   "cell_type": "code",
   "execution_count": 26,
   "metadata": {},
   "outputs": [
    {
     "data": {
      "text/plain": [
       "array([['A1', 'B1', 'C1', 'D1', 'E1', 'F1', 'G1', 'H1', 'I1'],\n",
       "       ['A2', 'B2', 'C2', 'D2', 'E2', 'F2', 'G2', 'H2', 'I2'],\n",
       "       ['A3', 'B3', 'C3', 'D3', 'E3', 'F3', 'G3', 'H3', 'I3'],\n",
       "       ['A4', 'B4', 'C4', 'D4', 'E4', 'F4', 'G4', 'H4', 'I4'],\n",
       "       ['A5', 'B5', 'C5', 'D5', 'E5', 'F5', 'G5', 'H5', 'I5']],\n",
       "      dtype=object)"
      ]
     },
     "execution_count": 26,
     "metadata": {},
     "output_type": "execute_result"
    }
   ],
   "source": [
    "measurement_schema"
   ]
  },
  {
   "cell_type": "code",
   "execution_count": 31,
   "metadata": {},
   "outputs": [],
   "source": [
    "n_y, n_x = measurement_schema.shape\n",
    "\n",
    "x = np.linspace(0, n_x * x_distance, n_x)\n",
    "y = np.linspace(0, n_y * y_distance, n_y)\n",
    "\n",
    "X, Y = np.meshgrid(x, y)"
   ]
  },
  {
   "cell_type": "code",
   "execution_count": 49,
   "metadata": {},
   "outputs": [],
   "source": [
    "Z = np.zeros_like(measurement_schema)\n",
    "\n",
    "for index, df_row in measurements_df[1:].iterrows():\n",
    "\n",
    "    key = df_row['Messort']\n",
    "\n",
    "    # Get position of key in measurement schema\n",
    "    key_search_result = np.where(measurement_schema==key)\n",
    "    row_indices = key_search_result[0]\n",
    "    column_indices = key_search_result[1]\n",
    "\n",
    "    row_index = row_indices[0]\n",
    "    column_index = column_indices[0]\n",
    "\n",
    "    Z[row_index,column_index] = df_row['Flussdichte [µT] (3D-Wert)']\n"
   ]
  }
 ],
 "metadata": {
  "interpreter": {
   "hash": "949777d72b0d2535278d3dc13498b2535136f6dfe0678499012e853ee9abcab1"
  },
  "kernelspec": {
   "display_name": "Python 3.10.2 64-bit",
   "language": "python",
   "name": "python3"
  },
  "language_info": {
   "codemirror_mode": {
    "name": "ipython",
    "version": 3
   },
   "file_extension": ".py",
   "mimetype": "text/x-python",
   "name": "python",
   "nbconvert_exporter": "python",
   "pygments_lexer": "ipython3",
   "version": "3.10.2"
  },
  "orig_nbformat": 4
 },
 "nbformat": 4,
 "nbformat_minor": 2
}
